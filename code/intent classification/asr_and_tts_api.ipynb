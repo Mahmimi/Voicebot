{
  "cells": [
    {
      "cell_type": "markdown",
      "metadata": {
        "id": "BE4r0eJhLgWp"
      },
      "source": [
        "# Google Speech Recognition"
      ]
    },
    {
      "cell_type": "code",
      "execution_count": 5,
      "metadata": {
        "id": "xtpkf_A8KAZt"
      },
      "outputs": [],
      "source": [
        "# %%capture\n",
        "# !pip install SpeechRecognition\n",
        "# !pip install PyAudio\n",
        "# !pip install edge-tts"
      ]
    },
    {
      "cell_type": "code",
      "execution_count": 6,
      "metadata": {
        "id": "w9u3vQDBKdZ5"
      },
      "outputs": [],
      "source": [
        "import speech_recognition as sr\n",
        "\n",
        "def transcribe_wav_file(file_path):\n",
        "    r = sr.Recognizer()\n",
        "\n",
        "    try:\n",
        "        with sr.WavFile(file_path) as source:\n",
        "            audio = r.record(source)\n",
        "        transcription = r.recognize_google(audio,language = \"th-TH\")\n",
        "        return transcription\n",
        "    except:\n",
        "        return \"Could not understand audio\""
      ]
    },
    {
      "cell_type": "code",
      "execution_count": 7,
      "metadata": {
        "colab": {
          "base_uri": "https://localhost:8080/",
          "height": 36
        },
        "id": "hFzorvehLIrJ",
        "outputId": "27c00664-056e-4af4-d31f-803c2730222b"
      },
      "outputs": [
        {
          "data": {
            "text/plain": [
              "'วัตถุระเบิดสารพิษและสารติดเชื้อวัตถุกัมมันตรังสีก๊าซ'"
            ]
          },
          "execution_count": 7,
          "metadata": {},
          "output_type": "execute_result"
        }
      ],
      "source": [
        "transcribe_wav_file('tsync2_noon_0_728_1.wav')"
      ]
    },
    {
      "cell_type": "markdown",
      "metadata": {
        "id": "usH7xjlFLnnl"
      },
      "source": [
        "# edge-tts"
      ]
    },
    {
      "cell_type": "code",
      "execution_count": 8,
      "metadata": {
        "id": "ZjgSsz2eQWK-"
      },
      "outputs": [],
      "source": [
        "import asyncio\n",
        "import edge_tts\n",
        "\n",
        "async def text_to_audio(text: str, filename: str):\n",
        "    communicate = edge_tts.Communicate(text, \"th-TH-PremwadeeNeural\")\n",
        "\n",
        "    with open(filename + \".wav\", \"wb\") as file:\n",
        "        async for chunk in communicate.stream():\n",
        "            if chunk[\"type\"] == \"audio\":\n",
        "                file.write(chunk[\"data\"])\n",
        "            elif chunk[\"type\"] == \"WordBoundary\":\n",
        "                pass\n",
        "        print('Finished')"
      ]
    },
    {
      "cell_type": "code",
      "execution_count": 9,
      "metadata": {
        "colab": {
          "base_uri": "https://localhost:8080/"
        },
        "id": "xP_67HrEQjmB",
        "outputId": "9dad0d2f-79d1-4d85-9629-67ac4c4834b8"
      },
      "outputs": [
        {
          "name": "stdout",
          "output_type": "stream",
          "text": [
            "Finished\n"
          ]
        }
      ],
      "source": [
        "TEXT = \"วัตถุระเบิดสารพิษและสารติดเชื้อวัตถุกัมมันตรังสีก๊าซ\"\n",
        "FILENAME = \"output_audio\"\n",
        "await text_to_audio(TEXT, FILENAME)"
      ]
    }
  ],
  "metadata": {
    "colab": {
      "provenance": []
    },
    "kernelspec": {
      "display_name": "Python 3",
      "name": "python3"
    },
    "language_info": {
      "codemirror_mode": {
        "name": "ipython",
        "version": 3
      },
      "file_extension": ".py",
      "mimetype": "text/x-python",
      "name": "python",
      "nbconvert_exporter": "python",
      "pygments_lexer": "ipython3",
      "version": "3.11.4"
    }
  },
  "nbformat": 4,
  "nbformat_minor": 0
}
