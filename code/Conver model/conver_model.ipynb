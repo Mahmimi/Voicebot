{
 "cells": [
  {
   "cell_type": "code",
   "execution_count": 1,
   "metadata": {},
   "outputs": [],
   "source": [
    "from ConversationModel import ConversationModel\n",
    "import pandas as pd"
   ]
  },
  {
   "cell_type": "code",
   "execution_count": 2,
   "metadata": {},
   "outputs": [
    {
     "data": {
      "text/html": [
       "<div>\n",
       "<style scoped>\n",
       "    .dataframe tbody tr th:only-of-type {\n",
       "        vertical-align: middle;\n",
       "    }\n",
       "\n",
       "    .dataframe tbody tr th {\n",
       "        vertical-align: top;\n",
       "    }\n",
       "\n",
       "    .dataframe thead th {\n",
       "        text-align: right;\n",
       "    }\n",
       "</style>\n",
       "<table border=\"1\" class=\"dataframe\">\n",
       "  <thead>\n",
       "    <tr style=\"text-align: right;\">\n",
       "      <th></th>\n",
       "      <th>ชื่อ</th>\n",
       "      <th>นามสกุล</th>\n",
       "      <th>เบอร์โทร</th>\n",
       "      <th>ประกันรถยนต์</th>\n",
       "      <th>ประกันสุขภาพ</th>\n",
       "      <th>ประกันชีวิต</th>\n",
       "    </tr>\n",
       "  </thead>\n",
       "  <tbody>\n",
       "    <tr>\n",
       "      <th>0</th>\n",
       "      <td>สมศักดิ์</td>\n",
       "      <td>ใจดี</td>\n",
       "      <td>123-456-7890</td>\n",
       "      <td>Yes</td>\n",
       "      <td>No</td>\n",
       "      <td>Yes</td>\n",
       "    </tr>\n",
       "    <tr>\n",
       "      <th>1</th>\n",
       "      <td>วิศิษฎา</td>\n",
       "      <td>สุขใจ</td>\n",
       "      <td>234-567-8901</td>\n",
       "      <td>No</td>\n",
       "      <td>Yes</td>\n",
       "      <td>No</td>\n",
       "    </tr>\n",
       "    <tr>\n",
       "      <th>2</th>\n",
       "      <td>กาญจนา</td>\n",
       "      <td>ทรงศรี</td>\n",
       "      <td>345-678-9012</td>\n",
       "      <td>Yes</td>\n",
       "      <td>Yes</td>\n",
       "      <td>Yes</td>\n",
       "    </tr>\n",
       "    <tr>\n",
       "      <th>3</th>\n",
       "      <td>ชื่นชนก</td>\n",
       "      <td>สุขสวัสดิ์</td>\n",
       "      <td>456-789-0123</td>\n",
       "      <td>No</td>\n",
       "      <td>No</td>\n",
       "      <td>Yes</td>\n",
       "    </tr>\n",
       "    <tr>\n",
       "      <th>4</th>\n",
       "      <td>ธนากร</td>\n",
       "      <td>พูลสวัสดิ์</td>\n",
       "      <td>567-890-1234</td>\n",
       "      <td>Yes</td>\n",
       "      <td>Yes</td>\n",
       "      <td>No</td>\n",
       "    </tr>\n",
       "  </tbody>\n",
       "</table>\n",
       "</div>"
      ],
      "text/plain": [
       "       ชื่อ     นามสกุล      เบอร์โทร ประกันรถยนต์ ประกันสุขภาพ ประกันชีวิต\n",
       "0  สมศักดิ์        ใจดี  123-456-7890          Yes           No         Yes\n",
       "1   วิศิษฎา       สุขใจ  234-567-8901           No          Yes          No\n",
       "2    กาญจนา      ทรงศรี  345-678-9012          Yes          Yes         Yes\n",
       "3   ชื่นชนก  สุขสวัสดิ์  456-789-0123           No           No         Yes\n",
       "4     ธนากร  พูลสวัสดิ์  567-890-1234          Yes          Yes          No"
      ]
     },
     "execution_count": 2,
     "metadata": {},
     "output_type": "execute_result"
    }
   ],
   "source": [
    "data = pd.read_csv('mocup_data.csv')\n",
    "data.head()"
   ]
  },
  {
   "cell_type": "code",
   "execution_count": 3,
   "metadata": {},
   "outputs": [
    {
     "data": {
      "text/html": [
       "<div>\n",
       "<style scoped>\n",
       "    .dataframe tbody tr th:only-of-type {\n",
       "        vertical-align: middle;\n",
       "    }\n",
       "\n",
       "    .dataframe tbody tr th {\n",
       "        vertical-align: top;\n",
       "    }\n",
       "\n",
       "    .dataframe thead th {\n",
       "        text-align: right;\n",
       "    }\n",
       "</style>\n",
       "<table border=\"1\" class=\"dataframe\">\n",
       "  <thead>\n",
       "    <tr style=\"text-align: right;\">\n",
       "      <th></th>\n",
       "      <th>ชื่อ</th>\n",
       "      <th>นามสกุล</th>\n",
       "      <th>เบอร์โทร</th>\n",
       "      <th>ประกันรถยนต์</th>\n",
       "    </tr>\n",
       "  </thead>\n",
       "  <tbody>\n",
       "    <tr>\n",
       "      <th>0</th>\n",
       "      <td>สมศักดิ์</td>\n",
       "      <td>ใจดี</td>\n",
       "      <td>123-456-7890</td>\n",
       "      <td>Yes</td>\n",
       "    </tr>\n",
       "    <tr>\n",
       "      <th>2</th>\n",
       "      <td>กาญจนา</td>\n",
       "      <td>ทรงศรี</td>\n",
       "      <td>345-678-9012</td>\n",
       "      <td>Yes</td>\n",
       "    </tr>\n",
       "    <tr>\n",
       "      <th>4</th>\n",
       "      <td>ธนากร</td>\n",
       "      <td>พูลสวัสดิ์</td>\n",
       "      <td>567-890-1234</td>\n",
       "      <td>Yes</td>\n",
       "    </tr>\n",
       "    <tr>\n",
       "      <th>6</th>\n",
       "      <td>ปิยะพร</td>\n",
       "      <td>สุวรรณสุข</td>\n",
       "      <td>789-012-3456</td>\n",
       "      <td>Yes</td>\n",
       "    </tr>\n",
       "    <tr>\n",
       "      <th>8</th>\n",
       "      <td>ปวีณา</td>\n",
       "      <td>มีนสวัสดิ์</td>\n",
       "      <td>901-234-5678</td>\n",
       "      <td>Yes</td>\n",
       "    </tr>\n",
       "    <tr>\n",
       "      <th>10</th>\n",
       "      <td>ณัฐกานต์</td>\n",
       "      <td>สุขรุ่งเรือง</td>\n",
       "      <td>234-567-8902</td>\n",
       "      <td>Yes</td>\n",
       "    </tr>\n",
       "    <tr>\n",
       "      <th>12</th>\n",
       "      <td>สุขภัทร</td>\n",
       "      <td>รุ่งเรือง</td>\n",
       "      <td>456-789-0124</td>\n",
       "      <td>Yes</td>\n",
       "    </tr>\n",
       "    <tr>\n",
       "      <th>14</th>\n",
       "      <td>ศิริภัทร</td>\n",
       "      <td>วรรณสุข</td>\n",
       "      <td>678-901-2346</td>\n",
       "      <td>Yes</td>\n",
       "    </tr>\n",
       "    <tr>\n",
       "      <th>16</th>\n",
       "      <td>พิณทุตตร</td>\n",
       "      <td>สุขสม</td>\n",
       "      <td>890-123-4568</td>\n",
       "      <td>Yes</td>\n",
       "    </tr>\n",
       "    <tr>\n",
       "      <th>18</th>\n",
       "      <td>วีระ</td>\n",
       "      <td>สุขรุ่งเรือง</td>\n",
       "      <td>123-456-7892</td>\n",
       "      <td>Yes</td>\n",
       "    </tr>\n",
       "    <tr>\n",
       "      <th>20</th>\n",
       "      <td>ณัฐวุฒิ</td>\n",
       "      <td>รุ่งเรือง</td>\n",
       "      <td>345-678-9014</td>\n",
       "      <td>Yes</td>\n",
       "    </tr>\n",
       "    <tr>\n",
       "      <th>22</th>\n",
       "      <td>กาญจนา</td>\n",
       "      <td>วรรณสุข</td>\n",
       "      <td>567-890-1236</td>\n",
       "      <td>Yes</td>\n",
       "    </tr>\n",
       "    <tr>\n",
       "      <th>24</th>\n",
       "      <td>วีระพล</td>\n",
       "      <td>สุขสม</td>\n",
       "      <td>789-012-3458</td>\n",
       "      <td>Yes</td>\n",
       "    </tr>\n",
       "    <tr>\n",
       "      <th>26</th>\n",
       "      <td>วาสนา</td>\n",
       "      <td>นวลสุข</td>\n",
       "      <td>901-234-5680</td>\n",
       "      <td>Yes</td>\n",
       "    </tr>\n",
       "  </tbody>\n",
       "</table>\n",
       "</div>"
      ],
      "text/plain": [
       "        ชื่อ       นามสกุล      เบอร์โทร ประกันรถยนต์\n",
       "0   สมศักดิ์          ใจดี  123-456-7890          Yes\n",
       "2     กาญจนา        ทรงศรี  345-678-9012          Yes\n",
       "4      ธนากร    พูลสวัสดิ์  567-890-1234          Yes\n",
       "6     ปิยะพร     สุวรรณสุข  789-012-3456          Yes\n",
       "8      ปวีณา    มีนสวัสดิ์  901-234-5678          Yes\n",
       "10  ณัฐกานต์  สุขรุ่งเรือง  234-567-8902          Yes\n",
       "12   สุขภัทร     รุ่งเรือง  456-789-0124          Yes\n",
       "14  ศิริภัทร       วรรณสุข  678-901-2346          Yes\n",
       "16  พิณทุตตร         สุขสม  890-123-4568          Yes\n",
       "18      วีระ  สุขรุ่งเรือง  123-456-7892          Yes\n",
       "20   ณัฐวุฒิ     รุ่งเรือง  345-678-9014          Yes\n",
       "22    กาญจนา       วรรณสุข  567-890-1236          Yes\n",
       "24    วีระพล         สุขสม  789-012-3458          Yes\n",
       "26     วาสนา        นวลสุข  901-234-5680          Yes"
      ]
     },
     "execution_count": 3,
     "metadata": {},
     "output_type": "execute_result"
    }
   ],
   "source": [
    "conver_model = ConversationModel(data,'ประกันรถยนต์')\n",
    "conver_model.customer_alldata"
   ]
  },
  {
   "cell_type": "code",
   "execution_count": 7,
   "metadata": {},
   "outputs": [
    {
     "data": {
      "text/plain": [
       "ชื่อ                   ธนากร\n",
       "นามสกุล           พูลสวัสดิ์\n",
       "เบอร์โทร        567-890-1234\n",
       "ประกันรถยนต์             Yes\n",
       "Name: 4, dtype: object"
      ]
     },
     "execution_count": 7,
     "metadata": {},
     "output_type": "execute_result"
    }
   ],
   "source": [
    "conver_model.select_customer(2)"
   ]
  },
  {
   "cell_type": "code",
   "execution_count": 8,
   "metadata": {},
   "outputs": [
    {
     "data": {
      "text/plain": [
       "'ธนากร พูลสวัสดิ์'"
      ]
     },
     "execution_count": 8,
     "metadata": {},
     "output_type": "execute_result"
    }
   ],
   "source": [
    "conver_model.customer_name"
   ]
  },
  {
   "cell_type": "code",
   "execution_count": 9,
   "metadata": {},
   "outputs": [
    {
     "name": "stdout",
     "output_type": "stream",
     "text": [
      "Running on local URL:  http://127.0.0.1:7861\n",
      "\n",
      "To create a public link, set `share=True` in `launch()`.\n"
     ]
    },
    {
     "data": {
      "text/html": [
       "<div><iframe src=\"http://127.0.0.1:7861/\" width=\"100%\" height=\"500\" allow=\"autoplay; camera; microphone; clipboard-read; clipboard-write;\" frameborder=\"0\" allowfullscreen></iframe></div>"
      ],
      "text/plain": [
       "<IPython.core.display.HTML object>"
      ]
     },
     "metadata": {},
     "output_type": "display_data"
    }
   ],
   "source": [
    "conver_model.run()"
   ]
  }
 ],
 "metadata": {
  "kernelspec": {
   "display_name": "Python 3",
   "language": "python",
   "name": "python3"
  },
  "language_info": {
   "codemirror_mode": {
    "name": "ipython",
    "version": 3
   },
   "file_extension": ".py",
   "mimetype": "text/x-python",
   "name": "python",
   "nbconvert_exporter": "python",
   "pygments_lexer": "ipython3",
   "version": "3.11.4"
  }
 },
 "nbformat": 4,
 "nbformat_minor": 2
}
